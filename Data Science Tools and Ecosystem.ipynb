{
 "cells": [
  {
   "cell_type": "markdown",
   "id": "4c2b3a95",
   "metadata": {},
   "source": [
    "# Data Science Tools and Ecosystem"
   ]
  },
  {
   "cell_type": "markdown",
   "id": "8438dcc3",
   "metadata": {},
   "source": [
    "#### In this notebook, Data Science Tools and Ecosystem are summarized."
   ]
  },
  {
   "cell_type": "markdown",
   "id": "b7cabf02",
   "metadata": {},
   "source": [
    "**Obiettivi:**\n",
    "\n",
    "- List popular languages for Data Science.\n",
    "- List popular libreries for Data Science\n",
    "- List popular Data Science Tools\n",
    "- Demonstrate how to Code in Jupyter Notebook\n",
    "- Demonstrate hot to use Markdown cells.\n",
    "\n"
   ]
  },
  {
   "cell_type": "markdown",
   "id": "423f2503",
   "metadata": {},
   "source": [
    "Some of the popular languages that Data Scientists use are:\n",
    "\n",
    "1.   Python\n",
    "2.   SQL\n",
    "3.   R"
   ]
  },
  {
   "attachments": {},
   "cell_type": "markdown",
   "id": "62675668",
   "metadata": {},
   "source": [
    "Some of the commonly used libraries used by Data Scientists include:\n",
    "\n",
    "1. Pandas\n",
    "2. Numpy\n",
    "3. MatplotLib\n",
    "4. Seaborn\n",
    "5. Keras\n",
    "6. Tensorflow\n",
    "7. Scikit-Learn"
   ]
  },
  {
   "cell_type": "markdown",
   "id": "964b2ec2",
   "metadata": {},
   "source": [
    "| Data Science Tools |\n",
    "| ------------------ |\n",
    "| Jupyter Notebook   |\n",
    "| Rstudio            |\n",
    "| VisualCode           |\n",
    "                                                           "
   ]
  },
  {
   "cell_type": "markdown",
   "id": "61dddaa6",
   "metadata": {},
   "source": [
    "### Below are a few examples of evaluating arithmetic expressions in Python.\n"
   ]
  },
  {
   "cell_type": "code",
   "execution_count": 6,
   "id": "b87027c5",
   "metadata": {},
   "outputs": [
    {
     "data": {
      "text/plain": [
       "17"
      ]
     },
     "execution_count": 6,
     "metadata": {},
     "output_type": "execute_result"
    }
   ],
   "source": [
    "# This a simple arithmetic expression to mutiply then add integers\n",
    "\n",
    "(3*4)+5"
   ]
  },
  {
   "cell_type": "code",
   "execution_count": 8,
   "id": "7203a0c9",
   "metadata": {},
   "outputs": [
    {
     "name": "stdout",
     "output_type": "stream",
     "text": [
      "3.3333333333333335\n"
     ]
    }
   ],
   "source": [
    "# This will convert 200 minutes to hours by diving by 60\n",
    "\n",
    "Minutes = 200\n",
    "Hours = Minutes / 60\n",
    "\n",
    "print(Hours)"
   ]
  },
  {
   "cell_type": "markdown",
   "id": "7ccd79ee",
   "metadata": {},
   "source": [
    "## Author\n",
    "Massimiliano Gaglione\n"
   ]
  },
  {
   "cell_type": "code",
   "execution_count": null,
   "id": "935fd35a",
   "metadata": {},
   "outputs": [],
   "source": []
  }
 ],
 "metadata": {
  "kernelspec": {
   "display_name": "Python 3 (ipykernel)",
   "language": "python",
   "name": "python3"
  },
  "language_info": {
   "codemirror_mode": {
    "name": "ipython",
    "version": 3
   },
   "file_extension": ".py",
   "mimetype": "text/x-python",
   "name": "python",
   "nbconvert_exporter": "python",
   "pygments_lexer": "ipython3",
   "version": "3.11.4"
  }
 },
 "nbformat": 4,
 "nbformat_minor": 5
}
